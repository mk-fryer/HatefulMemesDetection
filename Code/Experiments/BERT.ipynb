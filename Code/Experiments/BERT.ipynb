{
  "nbformat": 4,
  "nbformat_minor": 2,
  "metadata": {
    "kernelspec": {
      "name": "python3",
      "display_name": "Python 3.7.16 64-bit ('myenv': conda)"
    },
    "language_info": {
      "codemirror_mode": {
        "name": "ipython",
        "version": 3
      },
      "file_extension": ".py",
      "mimetype": "text/x-python",
      "name": "python",
      "nbconvert_exporter": "python",
      "pygments_lexer": "ipython3",
      "version": "3.7.16"
    },
    "colab": {
      "name": "BERT.ipynb",
      "provenance": [],
      "include_colab_link": true
    },
    "interpreter": {
      "hash": "147a9a51cec8341ac93583d8be1dd431d4385897d8cf1fc1721a2fb44d714f60"
    }
  },
  "cells": [
    {
      "cell_type": "markdown",
      "source": [
        "<a href=\"https://colab.research.google.com/github/Abhishek0697/Detection-of-Hate-Speech-in-Multimodal-Memes/blob/main/Code/Experiments/BERT.ipynb\" target=\"_parent\"><img src=\"https://colab.research.google.com/assets/colab-badge.svg\" alt=\"Open In Colab\"/></a>"
      ],
      "metadata": {
        "id": "view-in-github",
        "colab_type": "text"
      }
    },
    {
      "cell_type": "code",
      "execution_count": 1,
      "source": [
        "# Check GPU availability\n",
        "!nvidia-smi"
      ],
      "outputs": [
        {
          "output_type": "stream",
          "name": "stdout",
          "text": [
            "/bin/sh: nvidia-smi: command not found\n"
          ]
        }
      ],
      "metadata": {
        "scrolled": true,
        "id": "5v_pFiBi21jQ"
      }
    },
    {
      "cell_type": "code",
      "execution_count": 6,
      "source": [
        "!pip install torch transformers torchvision"
      ],
      "outputs": [
        {
          "output_type": "stream",
          "name": "stdout",
          "text": [
            "Requirement already satisfied: torch in /Users/awisetraveler/anaconda3/envs/myenv/lib/python3.7/site-packages (1.13.1)\n",
            "Requirement already satisfied: transformers in /Users/awisetraveler/anaconda3/envs/myenv/lib/python3.7/site-packages (4.28.1)\n",
            "Collecting torchvision\n",
            "  Downloading torchvision-0.14.1-cp37-cp37m-macosx_10_9_x86_64.whl (1.4 MB)\n",
            "\u001b[2K     \u001b[90m━━━━━━━━━━━━━━━━━━━━━━━━━━━━━━━━━━━━━━━━\u001b[0m \u001b[32m1.4/1.4 MB\u001b[0m \u001b[31m9.0 MB/s\u001b[0m eta \u001b[36m0:00:00\u001b[0m\n",
            "\u001b[?25hRequirement already satisfied: typing-extensions in /Users/awisetraveler/anaconda3/envs/myenv/lib/python3.7/site-packages (from torch) (4.5.0)\n",
            "Requirement already satisfied: packaging>=20.0 in /Users/awisetraveler/anaconda3/envs/myenv/lib/python3.7/site-packages (from transformers) (21.3)\n",
            "Requirement already satisfied: numpy>=1.17 in /Users/awisetraveler/anaconda3/envs/myenv/lib/python3.7/site-packages (from transformers) (1.21.6)\n",
            "Requirement already satisfied: importlib-metadata in /Users/awisetraveler/anaconda3/envs/myenv/lib/python3.7/site-packages (from transformers) (6.5.1)\n",
            "Requirement already satisfied: regex!=2019.12.17 in /Users/awisetraveler/anaconda3/envs/myenv/lib/python3.7/site-packages (from transformers) (2022.10.31)\n",
            "Requirement already satisfied: tqdm>=4.27 in /Users/awisetraveler/anaconda3/envs/myenv/lib/python3.7/site-packages (from transformers) (4.65.0)\n",
            "Requirement already satisfied: filelock in /Users/awisetraveler/anaconda3/envs/myenv/lib/python3.7/site-packages (from transformers) (3.12.0)\n",
            "Requirement already satisfied: huggingface-hub<1.0,>=0.11.0 in /Users/awisetraveler/anaconda3/envs/myenv/lib/python3.7/site-packages (from transformers) (0.13.4)\n",
            "Requirement already satisfied: requests in /Users/awisetraveler/anaconda3/envs/myenv/lib/python3.7/site-packages (from transformers) (2.28.2)\n",
            "Requirement already satisfied: pyyaml>=5.1 in /Users/awisetraveler/anaconda3/envs/myenv/lib/python3.7/site-packages (from transformers) (6.0)\n",
            "Requirement already satisfied: tokenizers!=0.11.3,<0.14,>=0.11.1 in /Users/awisetraveler/anaconda3/envs/myenv/lib/python3.7/site-packages (from transformers) (0.13.3)\n",
            "Collecting pillow!=8.3.*,>=5.3.0\n",
            "  Downloading Pillow-9.5.0-cp37-cp37m-macosx_10_10_x86_64.whl (3.4 MB)\n",
            "\u001b[2K     \u001b[90m━━━━━━━━━━━━━━━━━━━━━━━━━━━━━━━━━━━━━━━━\u001b[0m \u001b[32m3.4/3.4 MB\u001b[0m \u001b[31m12.4 MB/s\u001b[0m eta \u001b[36m0:00:00\u001b[0m\n",
            "\u001b[?25hRequirement already satisfied: pyparsing!=3.0.5,>=2.0.2 in /Users/awisetraveler/anaconda3/envs/myenv/lib/python3.7/site-packages (from packaging>=20.0->transformers) (3.0.9)\n",
            "Requirement already satisfied: zipp>=0.5 in /Users/awisetraveler/anaconda3/envs/myenv/lib/python3.7/site-packages (from importlib-metadata->transformers) (3.15.0)\n",
            "Requirement already satisfied: urllib3<1.27,>=1.21.1 in /Users/awisetraveler/anaconda3/envs/myenv/lib/python3.7/site-packages (from requests->transformers) (1.26.15)\n",
            "Requirement already satisfied: charset-normalizer<4,>=2 in /Users/awisetraveler/anaconda3/envs/myenv/lib/python3.7/site-packages (from requests->transformers) (3.1.0)\n",
            "Requirement already satisfied: idna<4,>=2.5 in /Users/awisetraveler/anaconda3/envs/myenv/lib/python3.7/site-packages (from requests->transformers) (3.4)\n",
            "Requirement already satisfied: certifi>=2017.4.17 in /Users/awisetraveler/anaconda3/envs/myenv/lib/python3.7/site-packages (from requests->transformers) (2022.9.24)\n",
            "Installing collected packages: pillow, torchvision\n",
            "Successfully installed pillow-9.5.0 torchvision-0.14.1\n"
          ]
        }
      ],
      "metadata": {}
    },
    {
      "cell_type": "code",
      "execution_count": 1,
      "source": [
        "'''Importing necessary modules\n",
        "'''\n",
        "import numpy as np\n",
        "import torch\n",
        "from torch.utils.data import DataLoader, Dataset, TensorDataset\n",
        "import sys\n",
        "import torch.nn as nn\n",
        "import torch.nn.functional as F\n",
        "from torch.utils import data\n",
        "import torch.optim as optim\n",
        "#from torch.utils.tensorboard import SummaryWriter\n",
        "\n",
        "sys.path.append('../Trainers/')\n",
        "sys.path.append('..//Dataloaders/')\n",
        "sys.path.append('../utils/')\n",
        "\n",
        "from dataloader import mydataset#, create_prime_dict \n",
        "'''\n",
        "For BERT\n",
        "'''\n",
        "from transformers import BertForSequenceClassification, AdamW, BertConfig\n",
        "from transformers import get_linear_schedule_with_warmup\n",
        "from trainer_BERT import train, test_classify"
      ],
      "outputs": [
        {
          "output_type": "stream",
          "name": "stderr",
          "text": [
            "/Users/awisetraveler/anaconda3/envs/myenv/lib/python3.7/site-packages/tqdm/auto.py:21: TqdmWarning: IProgress not found. Please update jupyter and ipywidgets. See https://ipywidgets.readthedocs.io/en/stable/user_install.html\n",
            "  from .autonotebook import tqdm as notebook_tqdm\n"
          ]
        }
      ],
      "metadata": {
        "id": "9z4RwWDY21jm"
      }
    },
    {
      "cell_type": "code",
      "execution_count": null,
      "source": [
        "# Select gpu\n",
        "device = torch.device('cuda:7' if torch.cuda.is_available() else 'cpu')\n",
        "print(device)"
      ],
      "outputs": [
        {
          "output_type": "stream",
          "name": "stdout",
          "text": [
            "cuda:7\n"
          ]
        }
      ],
      "metadata": {
        "id": "OojgTSi721jn",
        "outputId": "2cef059c-3523-47d4-8745-f9246c8669a6"
      }
    },
    {
      "cell_type": "markdown",
      "source": [
        "**Dataloading Scheme**"
      ],
      "metadata": {
        "id": "suRtr-zp21jp"
      }
    },
    {
      "cell_type": "code",
      "execution_count": 2,
      "source": [
        "trainlist = '/Users/awisetraveler/gt/hateful_memes/data/train.jsonl'\n",
        "validlist = '/Users/awisetraveler/gt/hateful_memes/data/dev.jsonl'\n",
        "img_dir = '/Users/awisetraveler/gt/hateful_memes/data'"
      ],
      "outputs": [],
      "metadata": {
        "id": "IO79cqYb21jq"
      }
    },
    {
      "cell_type": "code",
      "execution_count": 3,
      "source": [
        "# prime_dict = create_prime_dict(trainlist)"
      ],
      "outputs": [],
      "metadata": {
        "id": "k3bf6Dhu21jr",
        "outputId": "7ffb3b42-3014-489c-e7fe-8ca732b43cb4"
      }
    },
    {
      "cell_type": "code",
      "execution_count": 3,
      "source": [
        "'''\n",
        "Train Dataloader\n",
        "''' \n",
        "train_dataset = mydataset(annotations_file=trainlist, img_dir=img_dir, name='train')          \n",
        "train_dataloader = data.DataLoader(train_dataset, shuffle= True, batch_size = 32, num_workers=16,pin_memory=True)\n",
        "\n",
        "\n",
        "'''\n",
        "Validation Dataloader\n",
        "''' \n",
        "validation_dataset = mydataset(annotations_file=validlist, img_dir=img_dir, name='valid')         \n",
        "validation_dataloader = data.DataLoader(validation_dataset, shuffle=False, batch_size = 32, num_workers=16,pin_memory=True)"
      ],
      "outputs": [
        {
          "output_type": "stream",
          "name": "stderr",
          "text": [
            "/Users/awisetraveler/anaconda3/envs/myenv/lib/python3.7/site-packages/transformers/tokenization_utils_base.py:2360: FutureWarning: The `pad_to_max_length` argument is deprecated and will be removed in a future version, use `padding=True` or `padding='longest'` to pad to the longest sequence in the batch, or use `padding='max_length'` to pad to a max length. In this case, you can give a specific length with `max_length` (e.g. `max_length=45`) or leave max_length to None to pad to the maximal input size of the model (e.g. 512 for Bert).\n",
            "  FutureWarning,\n",
            "/Users/awisetraveler/anaconda3/envs/myenv/lib/python3.7/site-packages/torch/utils/data/dataloader.py:557: UserWarning: This DataLoader will create 16 worker processes in total. Our suggested max number of worker in current system is 4 (`cpuset` is not taken into account), which is smaller than what this DataLoader is going to create. Please be aware that excessive worker creation might get DataLoader running slow or even freeze, lower the worker number to avoid potential slowness/freeze if necessary.\n",
            "  cpuset_checked))\n"
          ]
        }
      ],
      "metadata": {
        "id": "iMgMqJky21js"
      }
    },
    {
      "cell_type": "markdown",
      "source": [
        "**Model Definition**"
      ],
      "metadata": {
        "id": "TGDSAGoI21ju"
      }
    },
    {
      "cell_type": "code",
      "execution_count": 4,
      "source": [
        "'''\n",
        "Load BertForSequenceClassification, the pretrained BERT model with a single linear classification layer on top.\n",
        "''' \n",
        "model = BertForSequenceClassification.from_pretrained(\n",
        "    \"bert-base-uncased\", #12-layer BERT model, with an uncased vocab.\n",
        "    num_labels = 2, #Binary classification\n",
        "    output_attentions = False, # Whether the model returns attentions weights.\n",
        "    output_hidden_states = False, # Whether the model returns all hidden-states.\n",
        ")\n",
        "\n",
        "model = nn.DataParallel(model,device_ids=[7]).to(device)\n",
        "model"
      ],
      "outputs": [
        {
          "output_type": "stream",
          "name": "stderr",
          "text": [
            "Downloading pytorch_model.bin: 100%|██████████| 440M/440M [00:33<00:00, 13.1MB/s]\n",
            "Some weights of the model checkpoint at bert-base-uncased were not used when initializing BertForSequenceClassification: ['cls.predictions.bias', 'cls.seq_relationship.weight', 'cls.predictions.decoder.weight', 'cls.predictions.transform.LayerNorm.weight', 'cls.predictions.transform.dense.bias', 'cls.predictions.transform.LayerNorm.bias', 'cls.predictions.transform.dense.weight', 'cls.seq_relationship.bias']\n",
            "- This IS expected if you are initializing BertForSequenceClassification from the checkpoint of a model trained on another task or with another architecture (e.g. initializing a BertForSequenceClassification model from a BertForPreTraining model).\n",
            "- This IS NOT expected if you are initializing BertForSequenceClassification from the checkpoint of a model that you expect to be exactly identical (initializing a BertForSequenceClassification model from a BertForSequenceClassification model).\n",
            "Some weights of BertForSequenceClassification were not initialized from the model checkpoint at bert-base-uncased and are newly initialized: ['classifier.weight', 'classifier.bias']\n",
            "You should probably TRAIN this model on a down-stream task to be able to use it for predictions and inference.\n"
          ]
        },
        {
          "output_type": "error",
          "ename": "NameError",
          "evalue": "name 'device' is not defined",
          "traceback": [
            "\u001b[0;31m---------------------------------------------------------------------------\u001b[0m",
            "\u001b[0;31mNameError\u001b[0m                                 Traceback (most recent call last)",
            "\u001b[0;32m/var/folders/y1/pzg0j2115t93dxbz6tfyg8rm0000gn/T/ipykernel_72863/3782560490.py\u001b[0m in \u001b[0;36m<module>\u001b[0;34m\u001b[0m\n\u001b[1;32m      9\u001b[0m )\n\u001b[1;32m     10\u001b[0m \u001b[0;34m\u001b[0m\u001b[0m\n\u001b[0;32m---> 11\u001b[0;31m \u001b[0mmodel\u001b[0m \u001b[0;34m=\u001b[0m \u001b[0mnn\u001b[0m\u001b[0;34m.\u001b[0m\u001b[0mDataParallel\u001b[0m\u001b[0;34m(\u001b[0m\u001b[0mmodel\u001b[0m\u001b[0;34m,\u001b[0m\u001b[0mdevice_ids\u001b[0m\u001b[0;34m=\u001b[0m\u001b[0;34m[\u001b[0m\u001b[0;36m7\u001b[0m\u001b[0;34m]\u001b[0m\u001b[0;34m)\u001b[0m\u001b[0;34m.\u001b[0m\u001b[0mto\u001b[0m\u001b[0;34m(\u001b[0m\u001b[0mdevice\u001b[0m\u001b[0;34m)\u001b[0m\u001b[0;34m\u001b[0m\u001b[0;34m\u001b[0m\u001b[0m\n\u001b[0m\u001b[1;32m     12\u001b[0m \u001b[0mmodel\u001b[0m\u001b[0;34m\u001b[0m\u001b[0;34m\u001b[0m\u001b[0m\n",
            "\u001b[0;31mNameError\u001b[0m: name 'device' is not defined"
          ]
        }
      ],
      "metadata": {
        "id": "z9QHdLg421jv"
      }
    },
    {
      "cell_type": "markdown",
      "source": [
        "**Hyperparameters**"
      ],
      "metadata": {
        "id": "7iHM6hmt21jw"
      }
    },
    {
      "cell_type": "code",
      "execution_count": null,
      "source": [
        "'''\n",
        "Loss Function\n",
        "'''\n",
        "criterion = nn.CrossEntropyLoss()\n",
        "\n",
        "\n",
        "'''\n",
        "Optimizer\n",
        "'''\n",
        "optimizer = AdamW(model.parameters(), lr = 2e-5, eps = 1e-8)\n",
        "\n",
        "'''\n",
        "Number of training epochs. The BERT authors recommend between 2 and 4. We chose to run for 4, but we'll see later that this may be over-fitting the training data.\n",
        "'''\n",
        "num_Epochs = 10\n",
        "\n",
        "\n",
        "'''\n",
        "Create the learning rate scheduler.\n",
        "Total number of training steps is [number of batches] x [number of epochs].\n",
        "Note that this is not the same as the number of training samples.\n",
        "'''\n",
        "total_steps = len(train_dataloader) * num_Epochs\n",
        "lr_scheduler = get_linear_schedule_with_warmup(optimizer, num_warmup_steps = 0,  num_training_steps = total_steps)"
      ],
      "outputs": [],
      "metadata": {
        "id": "aul3cO_321jx"
      }
    },
    {
      "cell_type": "code",
      "execution_count": null,
      "source": [
        "modelname = 'BERT_basic'\n",
        "modelpath = './saved_model_checkpoints/'+modelname"
      ],
      "outputs": [],
      "metadata": {
        "id": "UMqg5R1R21jy"
      }
    },
    {
      "cell_type": "code",
      "execution_count": null,
      "source": [
        "writer = SummaryWriter(modelname)\n",
        "\n",
        "train(model, train_dataloader, validation_dataloader, criterion, optimizer, lr_scheduler, modelpath, writer, device, epochs = num_Epochs)\n",
        "\n",
        "writer.flush()\n",
        "writer.close()"
      ],
      "outputs": [],
      "metadata": {
        "id": "FsyuMX0n21jy"
      }
    },
    {
      "cell_type": "code",
      "execution_count": null,
      "source": [],
      "outputs": [],
      "metadata": {
        "id": "hgWcVF6v21jz"
      }
    },
    {
      "cell_type": "code",
      "execution_count": null,
      "source": [
        "'''\n",
        "Load saved model from checkpoint  #####\n",
        "'''\n",
        "model, optimizer, lr_scheduler, train_loss, v_loss, v_acc, epoch = load(modelpath, model, optimizer, lr_scheduler)\n"
      ],
      "outputs": [],
      "metadata": {
        "id": "apkfNYt821j0"
      }
    },
    {
      "cell_type": "code",
      "execution_count": null,
      "source": [
        "model.module.classifier"
      ],
      "outputs": [
        {
          "output_type": "execute_result",
          "data": {
            "text/plain": [
              "Linear(in_features=768, out_features=2, bias=True)"
            ]
          },
          "metadata": {
            "tags": []
          },
          "execution_count": 12
        }
      ],
      "metadata": {
        "id": "Vku7PJt121j0",
        "outputId": "7ea3bff8-ab87-48da-e91f-c7463a895386"
      }
    }
  ]
}